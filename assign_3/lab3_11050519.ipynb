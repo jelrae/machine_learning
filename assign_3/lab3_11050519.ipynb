{
 "cells": [
  {
   "cell_type": "markdown",
   "metadata": {},
   "source": [
    "# **Save this file as studentid1_studentid2_lab#.ipynb**\n",
    "(Your student-id is the number shown on your student card.)\n",
    "\n",
    "E.g. if you work with 3 people, the notebook should be named:\n",
    "12301230_3434343_1238938934_lab1.ipynb.\n",
    "\n",
    "**This will be parsed by a regexp, so please double check your filename.**\n",
    "\n",
    "**Only one member of each group has to submit the file to canvas.**\n",
    "\n",
    "Before you turn this problem in, please make sure everything runs correctly. First, **restart the kernel** (in the menubar, select Kernel$\\rightarrow$Restart) and then **run all cells** (in the menubar, select Cell$\\rightarrow$Run All). Note, that **you are not allowed to use Google Colab**.\n",
    "\n",
    "**Make sure you fill in any place that says `YOUR CODE HERE` or \"YOUR ANSWER HERE\", as well as your names and email adresses below.**\n",
    "\n"
   ]
  },
  {
   "cell_type": "code",
   "execution_count": 1,
   "metadata": {},
   "outputs": [],
   "source": [
    "NAME = \"\"\n",
    "NAME2 = \"\"\n",
    "NAME3 = \"\"\n",
    "EMAIL = \"\"\n",
    "EMAIL2 = \"\"\n",
    "EMAIL3 = \"\""
   ]
  },
  {
   "cell_type": "markdown",
   "metadata": {
    "deletable": false,
    "editable": false,
    "nbgrader": {
     "checksum": "cc316a1ed0e383c69e4af3b3b89b6a36",
     "grade": false,
     "grade_id": "cell-447a8ab4c82429ab",
     "locked": true,
     "schema_version": 1,
     "solution": false
    }
   },
   "source": [
    "# Lab 3: Gaussian Processes and Support Vector Machines\n",
    "\n",
    "### Machine Learning 1, September/October 2019\n",
    "\n",
    "Notes on implementation:\n",
    "\n",
    "* You should write your code and answers in this IPython Notebook: http://ipython.org/notebook.html. If you have problems, please contact your teaching assistant.\n",
    "* Please write your answers right below the questions.\n",
    "* Among the first lines of your notebook should be \"%pylab inline\". This imports all required modules, and your plots will appear inline.\n",
    "* Refer to last week's lab notes, i.e. http://docs.scipy.org/doc/, if you are unsure about what function to use. There are different correct ways to implement each problem!\n",
    "* use the provided test boxes to check if your answers are correct"
   ]
  },
  {
   "cell_type": "code",
   "execution_count": 2,
   "metadata": {
    "deletable": false,
    "editable": false,
    "nbgrader": {
     "checksum": "9c278ee9abc89a5ef5d829c1049141d2",
     "grade": false,
     "grade_id": "cell-a31fbe1e5a0de9bb",
     "locked": true,
     "schema_version": 1,
     "solution": false
    }
   },
   "outputs": [
    {
     "name": "stdout",
     "output_type": "stream",
     "text": [
      "Populating the interactive namespace from numpy and matplotlib\n"
     ]
    }
   ],
   "source": [
    "%pylab inline\n",
    "plt.rcParams[\"figure.figsize\"] = [20,10]"
   ]
  },
  {
   "cell_type": "code",
   "execution_count": 3,
   "metadata": {
    "deletable": false,
    "editable": false,
    "nbgrader": {
     "checksum": "510e268edf45424037e211654ddf6093",
     "grade": false,
     "grade_id": "cell-6d502beac900a992",
     "locked": true,
     "schema_version": 1,
     "solution": false
    }
   },
   "outputs": [],
   "source": [
    "# This cell makes sure that you have all the necessary libraries installed\n",
    "\n",
    "import sys\n",
    "import platform\n",
    "from importlib.util import find_spec, module_from_spec\n",
    "\n",
    "def check_newer_version(version_inst, version_nec):\n",
    "    version_inst_split = version_inst.split('.')\n",
    "    version_nec_split = version_nec.split('.')\n",
    "    for i in range(min(len(version_inst_split), len(version_nec_split))):\n",
    "        if int(version_nec_split[i]) > int(version_inst_split[i]):\n",
    "            return False\n",
    "        elif int(version_nec_split[i]) < int(version_inst_split[i]):\n",
    "            return True\n",
    "    return True\n",
    "        \n",
    "    \n",
    "module_list = [('jupyter', '1.0.0'), \n",
    "               ('matplotlib', '2.0.2'), \n",
    "               ('numpy', '1.13.1'), \n",
    "               ('python', '3.6.2'), \n",
    "               ('sklearn', '0.19.0'), \n",
    "               ('scipy', '0.19.1'), \n",
    "               ('nb_conda', '2.2.1')]\n",
    "\n",
    "packages_correct = True\n",
    "packages_errors = []\n",
    "\n",
    "for module_name, version in module_list:\n",
    "    if module_name == 'scikit-learn':\n",
    "        module_name = 'sklearn'\n",
    "    if module_name == 'pyyaml':\n",
    "        module_name = 'yaml'\n",
    "    if 'python' in module_name:\n",
    "        python_version = platform.python_version()\n",
    "        if not check_newer_version(python_version, version):\n",
    "            packages_correct = False\n",
    "            error = f'Update {module_name} to version {version}. Current version is {python_version}.'\n",
    "            packages_errors.append(error) \n",
    "            print(error)\n",
    "    else:\n",
    "        spec = find_spec(module_name)\n",
    "        if spec is None:\n",
    "            packages_correct = False\n",
    "            error = f'Install {module_name} with version {version} or newer, it is required for this assignment!'\n",
    "            packages_errors.append(error) \n",
    "            print(error)\n",
    "        else:\n",
    "            x = __import__(module_name)\n",
    "            if hasattr(x, '__version__') and not check_newer_version(x.__version__, version):\n",
    "                packages_correct = False\n",
    "                error = f'Update {module_name} to version {version}. Current version is {x.__version__}.'\n",
    "                packages_errors.append(error) \n",
    "                print(error)\n",
    "\n",
    "try:\n",
    "    from google.colab import drive\n",
    "    packages_correct = False\n",
    "    error = \"\"\"Please, don't use google colab!\n",
    "It will make it much more complicated for us to check your homework as it merges all the cells into one.\"\"\"\n",
    "    packages_errors.append(error) \n",
    "    print(error)\n",
    "except:\n",
    "    pass\n",
    "\n",
    "packages_errors = '\\n'.join(packages_errors)"
   ]
  },
  {
   "cell_type": "markdown",
   "metadata": {
    "deletable": false,
    "editable": false,
    "nbgrader": {
     "checksum": "7305e08b2c04f7ba3de1071d310b4a79",
     "grade": false,
     "grade_id": "cell-9f5845b06688e6e3",
     "locked": true,
     "schema_version": 1,
     "solution": false
    }
   },
   "source": [
    "## Part 1: Gaussian Processes\n",
    "\n",
    "For part 1 we will be refer to Bishop sections 6.4.2 and 6.4.3. You may also want to refer to Rasmussen's Gaussian Process text which is available online at http://www.gaussianprocess.org/gpml/chapters/ and especially to the project found at https://www.automaticstatistician.com/index/ by Ghahramani for some intuition in GP.  To understand Gaussian processes, it is highly recommended understand how marginal, partitioned Gaussian distributions can be converted into conditional Gaussian distributions.  This is covered in Bishop 2.3 and summarized in Eqns 2.94-2.98.\n",
    "$\\newcommand{\\bt}{\\mathbf{t}}$\n",
    "$\\newcommand{\\bx}{\\mathbf{x}}$\n",
    "$\\newcommand{\\by}{\\mathbf{y}}$\n",
    "$\\newcommand{\\bw}{\\mathbf{w}}$\n",
    "$\\newcommand{\\ba}{\\mathbf{a}}$"
   ]
  },
  {
   "cell_type": "markdown",
   "metadata": {
    "deletable": false,
    "editable": false,
    "nbgrader": {
     "checksum": "2c77bcc3c1b41adb15916666630bde13",
     "grade": false,
     "grade_id": "cell-c5f5f5b7b143efaa",
     "locked": true,
     "schema_version": 1,
     "solution": false
    }
   },
   "source": [
    "### Periodic Data\n",
    "\n",
    "We will use the same data generating function that we used previously for regression."
   ]
  },
  {
   "cell_type": "code",
   "execution_count": 4,
   "metadata": {
    "deletable": false,
    "editable": false,
    "nbgrader": {
     "checksum": "8a43e884585a4210282ee5e5d42d047e",
     "grade": false,
     "grade_id": "cell-4f7ad28294ae4fe4",
     "locked": true,
     "schema_version": 1,
     "solution": false
    }
   },
   "outputs": [],
   "source": [
    "def true_mean_function(x):\n",
    "    return np.sin(2*pi*(x+1))\n",
    "\n",
    "def add_noise(y, sigma):\n",
    "    return y + sigma*np.random.randn(len(y))\n",
    "\n",
    "def generate_t(x, sigma):\n",
    "    return add_noise(true_mean_function(x), sigma)\n"
   ]
  },
  {
   "cell_type": "code",
   "execution_count": 5,
   "metadata": {
    "deletable": false,
    "editable": false,
    "nbgrader": {
     "checksum": "d61908ff838f72d6bf5b7527be6f44fb",
     "grade": false,
     "grade_id": "cell-31ff6786c5cd8a8d",
     "locked": true,
     "schema_version": 1,
     "solution": false
    }
   },
   "outputs": [
    {
     "data": {
      "image/png": "[encoded data removed]",
      "text/plain": [
       "<Figure size 432x288 with 1 Axes>"
      ]
     },
     "metadata": {
      "needs_background": "light"
     },
     "output_type": "display_data"
    }
   ],
   "source": [
    "sigma = 0.2\n",
    "beta  = 1.0 / pow(sigma, 2)\n",
    "N_test = 100\n",
    "\n",
    "x_test = np.linspace(-1, 1, N_test) \n",
    "mu_test = np.zeros(N_test)\n",
    "y_test = true_mean_function(x_test)\n",
    "t_test = add_noise(y_test, sigma)\n",
    "\n",
    "plt.plot( x_test, y_test, 'b-', lw=2)\n",
    "plt.plot( x_test, t_test, 'go')\n",
    "plt.show()"
   ]
  },
  {
   "cell_type": "markdown",
   "metadata": {
    "deletable": false,
    "editable": false,
    "nbgrader": {
     "checksum": "18312d35a0eb1f09149b49aae1657f9f",
     "grade": false,
     "grade_id": "cell-97e93e61042ddefb",
     "locked": true,
     "schema_version": 1,
     "solution": false
    }
   },
   "source": [
    "### 1. Sampling from the Gaussian process prior (30 points)\n",
    "We will implement Gaussian process regression using the kernel function in Bishop Eqn. 6.63.  "
   ]
  },
  {
   "cell_type": "markdown",
   "metadata": {
    "deletable": false,
    "editable": false,
    "nbgrader": {
     "checksum": "3fc49c57af98f449cc3628d5d0fd360e",
     "grade": false,
     "grade_id": "cell-853a18b4e2a92c05",
     "locked": true,
     "schema_version": 1,
     "solution": false
    }
   },
   "source": [
    "#### 1.1 Why kernel function? (5 points)\n",
    "\n",
    "Before implementing kernel function, it would be useful to understand why kernels are crucial for high dimensional data. Why are kernels useful when you are dealing with high dimensional data?"
   ]
  },
  {
   "cell_type": "markdown",
   "metadata": {
    "deletable": false,
    "nbgrader": {
     "checksum": "c1984cfc6b817e1797cd88b5ca6ee1da",
     "grade": true,
     "grade_id": "cell-057e3c5377f97420",
     "locked": false,
     "points": 5,
     "schema_version": 1,
     "solution": true
    }
   },
   "source": [
    "YOUR ANSWER HERE"
   ]
  },
  {
   "cell_type": "markdown",
   "metadata": {
    "deletable": false,
    "editable": false,
    "nbgrader": {
     "checksum": "89e06305ed3f154757062bbdf58032f9",
     "grade": false,
     "grade_id": "cell-919bc00e708dcbf1",
     "locked": true,
     "schema_version": 1,
     "solution": false
    }
   },
   "source": [
    "#### 1.2 k_n_m( xn, xm, thetas ) (5 points)\n",
    "To start, implement function `k_n_m(xn, xm, thetas)` that takes scalars $x_n$ and $x_m$, and a vector of $4$ thetas, and computes the kernel function Bishop Eqn. 6.63 (10 points).  NB: usually the kernel function will take $D$ by $1$ vectors, but since we are using a univariate problem, this makes things easier."
   ]
  },
  {
   "cell_type": "code",
   "execution_count": 6,
   "metadata": {
    "deletable": false,
    "nbgrader": {
     "checksum": "e9e7f20ba77a7ec760497ae005ddd509",
     "grade": false,
     "grade_id": "cell-10f11f2e5e6b38e6",
     "locked": false,
     "schema_version": 1,
     "solution": true
    }
   },
   "outputs": [],
   "source": [
    "def k_n_m(xn, xm, thetas):\n",
    "    # YOUR CODE HERE\n",
    "    raise NotImplementedError()\n",
    "    \n",
    "    return k"
   ]
  },
  {
   "cell_type": "code",
   "execution_count": 7,
   "metadata": {
    "deletable": false,
    "editable": false,
    "nbgrader": {
     "checksum": "bef2734ceed35587e9278c6c95da1208",
     "grade": true,
     "grade_id": "cell-8b621bd13ef5af5e",
     "locked": true,
     "points": 5,
     "schema_version": 1,
     "solution": false
    }
   },
   "outputs": [],
   "source": [
    "# DO NOT REMOVE THIS CELL!\n",
    "# It contains hidden tests\n"
   ]
  },
  {
   "cell_type": "markdown",
   "metadata": {
    "deletable": false,
    "editable": false,
    "nbgrader": {
     "checksum": "fa0125f874069e959a58e21aca14c2b1",
     "grade": false,
     "grade_id": "cell-ad0a764e2a661bc8",
     "locked": true,
     "schema_version": 1,
     "solution": false
    }
   },
   "source": [
    "#### 1.3 computeK( X1, X2, thetas ) (10 points)\n",
    "Eqn 6.60 is the marginal distribution of mean output of $N$ data vectors: $p(\\mathbf{y}) = \\mathcal{N}(0, \\mathbf{K})$.  Notice that the expected mean function is $0$ at all locations, and that the covariance is a $N_{x_1}$ by $N_{x_2}$ kernel matrix $\\mathbf{K}$.  Write a function `computeK(x1, x2, thetas)`\n",
    "that computes the kernel matrix. Use k_n_m as part of an inner loop (of course, there are more efficient ways of computing the kernel function making better use of vectorization, but that is not necessary) (5 points).  "
   ]
  },
  {
   "cell_type": "code",
   "execution_count": 8,
   "metadata": {
    "deletable": false,
    "nbgrader": {
     "checksum": "b211dee5ab3a8c03c0e231f7018a5f6c",
     "grade": false,
     "grade_id": "cell-a71c407c04df7096",
     "locked": false,
     "schema_version": 1,
     "solution": true
    }
   },
   "outputs": [],
   "source": [
    "def computeK(x1, x2, thetas):\n",
    "    # YOUR CODE HERE\n",
    "    raise NotImplementedError()\n",
    "    \n",
    "    return K"
   ]
  },
  {
   "cell_type": "code",
   "execution_count": 9,
   "metadata": {
    "deletable": false,
    "editable": false,
    "nbgrader": {
     "checksum": "8794069f47c0efc03b065bda02d4cfa5",
     "grade": true,
     "grade_id": "cell-b306210055d7a91c",
     "locked": true,
     "points": 10,
     "schema_version": 1,
     "solution": false
    }
   },
   "outputs": [
    {
     "ename": "NotImplementedError",
     "evalue": "",
     "output_type": "error",
     "traceback": [
      "\u001b[1;31m---------------------------------------------------------------------------\u001b[0m",
      "\u001b[1;31mNotImplementedError\u001b[0m                       Traceback (most recent call last)",
      "\u001b[1;32m<ipython-input-9-dd9627aeb265>\u001b[0m in \u001b[0;36m<module>\u001b[1;34m\u001b[0m\n\u001b[0;32m      3\u001b[0m \u001b[0mx2\u001b[0m \u001b[1;33m=\u001b[0m \u001b[1;33m[\u001b[0m\u001b[1;36m1\u001b[0m\u001b[1;33m,\u001b[0m \u001b[1;36m2\u001b[0m\u001b[1;33m,\u001b[0m \u001b[1;36m3\u001b[0m\u001b[1;33m,\u001b[0m \u001b[1;36m4\u001b[0m\u001b[1;33m]\u001b[0m\u001b[1;33m\u001b[0m\u001b[1;33m\u001b[0m\u001b[0m\n\u001b[0;32m      4\u001b[0m \u001b[0mthetas\u001b[0m \u001b[1;33m=\u001b[0m \u001b[1;33m[\u001b[0m\u001b[1;36m1\u001b[0m\u001b[1;33m,\u001b[0m \u001b[1;36m2\u001b[0m\u001b[1;33m,\u001b[0m \u001b[1;36m3\u001b[0m\u001b[1;33m,\u001b[0m \u001b[1;36m4\u001b[0m\u001b[1;33m]\u001b[0m\u001b[1;33m\u001b[0m\u001b[1;33m\u001b[0m\u001b[0m\n\u001b[1;32m----> 5\u001b[1;33m \u001b[0mK\u001b[0m \u001b[1;33m=\u001b[0m \u001b[0mcomputeK\u001b[0m\u001b[1;33m(\u001b[0m\u001b[0mx1\u001b[0m\u001b[1;33m,\u001b[0m \u001b[0mx2\u001b[0m\u001b[1;33m,\u001b[0m \u001b[0mthetas\u001b[0m\u001b[1;33m)\u001b[0m\u001b[1;33m\u001b[0m\u001b[1;33m\u001b[0m\u001b[0m\n\u001b[0m\u001b[0;32m      6\u001b[0m \u001b[1;33m\u001b[0m\u001b[0m\n\u001b[0;32m      7\u001b[0m \u001b[1;33m\u001b[0m\u001b[0m\n",
      "\u001b[1;32m<ipython-input-8-de83e3ec6a50>\u001b[0m in \u001b[0;36mcomputeK\u001b[1;34m(x1, x2, thetas)\u001b[0m\n\u001b[0;32m      1\u001b[0m \u001b[1;32mdef\u001b[0m \u001b[0mcomputeK\u001b[0m\u001b[1;33m(\u001b[0m\u001b[0mx1\u001b[0m\u001b[1;33m,\u001b[0m \u001b[0mx2\u001b[0m\u001b[1;33m,\u001b[0m \u001b[0mthetas\u001b[0m\u001b[1;33m)\u001b[0m\u001b[1;33m:\u001b[0m\u001b[1;33m\u001b[0m\u001b[1;33m\u001b[0m\u001b[0m\n\u001b[0;32m      2\u001b[0m     \u001b[1;31m# YOUR CODE HERE\u001b[0m\u001b[1;33m\u001b[0m\u001b[1;33m\u001b[0m\u001b[1;33m\u001b[0m\u001b[0m\n\u001b[1;32m----> 3\u001b[1;33m     \u001b[1;32mraise\u001b[0m \u001b[0mNotImplementedError\u001b[0m\u001b[1;33m(\u001b[0m\u001b[1;33m)\u001b[0m\u001b[1;33m\u001b[0m\u001b[1;33m\u001b[0m\u001b[0m\n\u001b[0m\u001b[0;32m      4\u001b[0m \u001b[1;33m\u001b[0m\u001b[0m\n\u001b[0;32m      5\u001b[0m     \u001b[1;32mreturn\u001b[0m \u001b[0mK\u001b[0m\u001b[1;33m\u001b[0m\u001b[1;33m\u001b[0m\u001b[0m\n",
      "\u001b[1;31mNotImplementedError\u001b[0m: "
     ]
    }
   ],
   "source": [
    "### Test your function\n",
    "x1 = [0, 1, 2]\n",
    "x2 = [1, 2, 3, 4]\n",
    "thetas = [1, 2, 3, 4]\n",
    "K = computeK(x1, x2, thetas)\n",
    "\n",
    "\n",
    "assert K.shape == (len(x1), len(x2)), \"the shape of K is incorrect\"\n"
   ]
  },
  {
   "cell_type": "markdown",
   "metadata": {
    "deletable": false,
    "editable": false,
    "nbgrader": {
     "checksum": "da68357bed6c41606eaf48813b78358a",
     "grade": false,
     "grade_id": "cell-b57ae041bde18cd1",
     "locked": true,
     "schema_version": 1,
     "solution": false
    }
   },
   "source": [
    "#### 1.4 Plot function samples (15 points)\n",
    "Now sample mean functions at the x_test locations for the theta values in Bishop Figure 6.5, make a figure with a 2 by 3 subplot and make sure the title reflects the theta values (make sure everything is legible).  In other words, sample $\\by_i \\sim \\mathcal{N}(0, \\mathbf{K}_{\\theta})$.  Make use of numpy.random.multivariate_normal().  On your plots include the expected value of $\\by$ with a dashed line and fill_between 2 standard deviations of the uncertainty due to $\\mathbf{K}$ (the diagonal of $\\mathbf{K}$ is the variance of the model uncertainty) (15 points)."
   ]
  },
  {
   "cell_type": "code",
   "execution_count": null,
   "metadata": {
    "deletable": false,
    "nbgrader": {
     "checksum": "2d5e7a8803ed3dae7274a8d464ee8803",
     "grade": true,
     "grade_id": "cell-1424adaf2517b28b",
     "locked": false,
     "points": 15,
     "schema_version": 1,
     "solution": true
    }
   },
   "outputs": [],
   "source": [
    "# YOUR CODE HERE\n",
    "raise NotImplementedError()\n"
   ]
  },
  {
   "cell_type": "markdown",
   "metadata": {
    "deletable": false,
    "editable": false,
    "nbgrader": {
     "checksum": "b258c8b2f7de92e53d983221060cbe9b",
     "grade": false,
     "grade_id": "cell-2a25f52361101417",
     "locked": true,
     "schema_version": 1,
     "solution": false
    }
   },
   "source": [
    "### 2. Predictive distribution (35 points)\n",
    "So far we have sampled mean functions from the prior.  We can draw actual data $\\bt$ two ways.  The first way is generatively, by first sampling $\\by | \\mathbf{K}$, then sampling $\\bt | \\by, \\beta$ (Eqns 6.60 followed by 6.59).  The second way is to integrate over $\\by$ (the mean draw) and directly sample $\\bt | \\mathbf{K}, \\beta$ using Eqn 6.61.    This is the generative process for $\\bt$.  Note that we have not specified a distribution over inputs $\\bx$;  this is because Gaussian processes are conditional models.  Because of this we are free to generate locations $\\bx$ when playing around with the GP; obviously a dataset will give us input-output pairs.\n",
    "\n",
    "Once we have data, we are interested in the predictive distribution (note: the prior is the predictive distribution when there is no data).  Consider the joint distribution for $N+1$ targets, given by Eqn 6.64.  Its covariance matrix is composed of block components $\\mathbf{C}_N$, $\\mathbf{k}$, and $c$.  The covariance matrix $\\mathbf{C}_N$ for $\\bt_N$ is $\\mathbf{C}_N = \\mathbf{K}_N + \\beta^{-1}\\mathbf{I}_N$.  We have just made explicit the size $N$ of the matrix; $N$ is the number of training points.  The kernel vector $\\mathbf{k}$ is a $N$ by $1$ vector of kernel function evaluations between the training input data and the test input vector.  The scalar $c$ is a kernel evaluation at the test input.\n",
    "\n",
    "#### 2.1 gp_predictive_distribution(...) (10 points)\n",
    "Write a function `gp_predictive_distribution(x_train, t_train, x_test, theta, beta, C=None)` that computes  Eqns 6.66 and 6.67, except allow for an arbitrary number of test points (not just one) and now the kernel matrix is for training data. We have:\n",
    "\n",
    "- $\\mathbf{K}$: $K_{n,m} = k(x_{\\text{train},n}, x_{\\text{train},m})$; $\\mathbf{K}$ is a $N_\\text{train}\\times N_\\text{train}$ matrix\n",
    "- $\\mathbf{C}$: $\\mathbf{C} = \\mathbf{K} + \\beta^{-1}\\mathbf{I}$; $\\mathbf{C}$ is a $N_\\text{train}\\times N_\\text{train}$ matrix\n",
    "- $\\mathbf{k}$: $k_{n,m} = k(x_{\\text{train},n}, x_{\\text{test},m})$; $\\mathbf{k}$ is a $N_\\text{train}\\times N_\\text{test}$ matrix\n",
    "- $\\mathbf{c}$: $c_{n,m} = k(x_{\\text{test},n}, x_{\\text{test},m}) + \\beta^{-1}$ if $n=m$ and $0$ otherwise; $\\mathbf{c}$ is a $N_\\text{test}\\times N_\\text{test}$ matrix\n",
    "\n",
    "Now Eqns 6.66 and 6.67  become\n",
    "- $\\mu = \\mathbf{k}^T\\mathbf{C}^{-1}\\mathbf{t}$; $\\mu$ is a vector of length $N_\\text{test}$\n",
    "- $\\Sigma = \\mathbf{c} - \\mathbf{k}^T\\mathbf{C}^{-1}\\mathbf{k}$; $\\Sigma$ is a $N_\\text{test}\\times N_\\text{test}$ matrix\n",
    "\n",
    "Last, the standard deviation for every data point in the test vector $x_{\\text{test}}$ is given by\n",
    "\n",
    "- $\\sigma = \\sqrt{\\text{diag}(\\Sigma)}$,\n",
    "\n",
    "where $\\sigma$ is a vector of length $N_\\text{test}$.\n",
    "\n",
    "\n",
    "By having C as an optional parameter in the function we can avoid computing it more than once (for this problem it is unimportant, but for real problems this is an issue).  The function should compute $\\mathbf{C}$, $\\mathbf{k}$, and return the mean, standard deviation and $\\mathbf{C}$.(10 points)"
   ]
  },
  {
   "cell_type": "code",
   "execution_count": null,
   "metadata": {
    "deletable": false,
    "nbgrader": {
     "checksum": "a156e73db8debc0574bbb99de91feaf0",
     "grade": false,
     "grade_id": "cell-eae0316765be4db6",
     "locked": false,
     "schema_version": 1,
     "solution": true
    }
   },
   "outputs": [],
   "source": [
    "def gp_predictive_distribution(x_train, t_train, x_test, theta, beta, C=None):\n",
    "    # YOUR CODE HERE\n",
    "    raise NotImplementedError()\n",
    "    \n",
    "    return mean_test, std_test, C"
   ]
  },
  {
   "cell_type": "code",
   "execution_count": null,
   "metadata": {
    "deletable": false,
    "editable": false,
    "nbgrader": {
     "checksum": "23dd3d50f2716f4a7fb0164e1f00b133",
     "grade": true,
     "grade_id": "cell-9cc4442de9b765c1",
     "locked": true,
     "points": 10,
     "schema_version": 1,
     "solution": false
    }
   },
   "outputs": [],
   "source": [
    "### Test your function\n",
    "N = 2\n",
    "train_x = np.linspace(-1, 1, N)\n",
    "train_t = 2*train_x\n",
    "test_N = 3\n",
    "test_x = np.linspace(-1, 1, test_N) \n",
    "theta = [1, 2, 3, 4]\n",
    "beta = 25\n",
    "test_mean, test_std, C = gp_predictive_distribution(train_x, train_t, test_x, theta, beta, C=None)\n",
    "\n",
    "print(test_std)\n",
    "\n",
    "assert test_mean.shape == (test_N,), \"the shape of mean is incorrect\"\n",
    "assert test_std.shape == (test_N,), \"the shape of var is incorrect\"\n",
    "assert C.shape == (N, N), \"the shape of C is incorrect\"\n",
    "\n",
    "C_in = np.array([[0.804, -0.098168436], [-0.098168436, 0.804]])\n",
    "_, _, C_out = gp_predictive_distribution(train_x, train_t, test_x, theta, beta, C=C_in)\n",
    "\n",
    "assert np.allclose(C_in, C_out), \"C is not reused!\"\n"
   ]
  },
  {
   "cell_type": "markdown",
   "metadata": {
    "deletable": false,
    "editable": false,
    "nbgrader": {
     "checksum": "23db3fc8cc428c985f751486fd78b8be",
     "grade": false,
     "grade_id": "cell-32a51baa7ae3ee88",
     "locked": true,
     "schema_version": 1,
     "solution": false
    }
   },
   "source": [
    "#### 2.2 gp_log_likelihood(...) (10 points)\n",
    "To learn the hyperparameters, we would need to compute the log-likelihood of the of the training data.  Implicitly, this is conditioned on the value setting for $\\mathbf{\\theta}$.  Write a function `gp_log_likelihood(x_train, t_train, theta, C=None, invC=None, beta=None)`, where C and invC can be stored and reused. It should return the log-likelihood, `C` and `invC`  (10 points)"
   ]
  },
  {
   "cell_type": "code",
   "execution_count": null,
   "metadata": {
    "deletable": false,
    "nbgrader": {
     "checksum": "d5f359f9b03ed6c84b0e6a322d203152",
     "grade": false,
     "grade_id": "cell-b402394536823567",
     "locked": false,
     "schema_version": 1,
     "solution": true
    }
   },
   "outputs": [],
   "source": [
    "def gp_log_likelihood(x_train, t_train, theta, beta, C=None, invC=None):\n",
    "    # YOUR CODE HERE\n",
    "    raise NotImplementedError()\n",
    "    \n",
    "    return lp, C, invC"
   ]
  },
  {
   "cell_type": "code",
   "execution_count": null,
   "metadata": {
    "deletable": false,
    "editable": false,
    "nbgrader": {
     "checksum": "54892a8888dfda35d4898c70d7a2d14b",
     "grade": true,
     "grade_id": "cell-c21cca7e11e01d2f",
     "locked": true,
     "points": 10,
     "schema_version": 1,
     "solution": false
    }
   },
   "outputs": [],
   "source": [
    "### Test your function\n",
    "N = 2\n",
    "train_x = np.linspace(-1, 1, N)\n",
    "train_t = 2 * train_x\n",
    "theta = [1, 2, 3, 4]\n",
    "beta = 25\n",
    "lp, C, invC = gp_log_likelihood(train_x, train_t, theta, beta, C=None, invC=None)\n",
    "\n",
    "assert lp < 0, \"the log-likelihood should be smaller than 0\"\n",
    "assert C.shape == (N, N), \"the shape of var is incorrect\"\n",
    "assert invC.shape == (N, N), \"the shape of C is incorrect\"\n",
    "\n",
    "C_in = np.array([[0.804, -0.098168436], [-0.098168436, 0.804]])\n",
    "_, C_out, _ = gp_log_likelihood(train_x, train_t, theta, beta, C=C_in, invC=None)\n",
    "\n",
    "assert np.allclose(C_in, C_out), \"C is not reused!\"\n",
    "\n",
    "invC_in = np.array([[1.26260453, 0.15416407], [0.15416407, 1.26260453]])\n",
    "_, _, invC_out = gp_log_likelihood(train_x, train_t, theta, beta, C=None, invC=invC_in)\n",
    "\n",
    "assert np.allclose(invC_in, invC_out), \"invC is not reused!\"\n"
   ]
  },
  {
   "cell_type": "markdown",
   "metadata": {
    "deletable": false,
    "editable": false,
    "nbgrader": {
     "checksum": "a160e0d7511d31668ecef9642c17a86d",
     "grade": false,
     "grade_id": "cell-b8772e6321eac07f",
     "locked": true,
     "schema_version": 1,
     "solution": false
    }
   },
   "source": [
    "#### 2.3 Plotting (10 points)\n",
    "Repeat the 6 plots above, but this time conditioned on the training points.  Use the periodic data generator to create 2 training points where x is sampled uniformly between $-1$ and $1$.  For these plots, feel free to use the provided function \"gp_plot\".  Make sure you put the parameters in the title and this time also the log-likelihood. Try to understand the two types of uncertainty!  If you do not use `gp_plot(...)`, please add a fill between for the model and target noise. (10 points)"
   ]
  },
  {
   "cell_type": "code",
   "execution_count": null,
   "metadata": {
    "deletable": false,
    "editable": false,
    "nbgrader": {
     "checksum": "2e061fdf844a2314475432aca0535fac",
     "grade": false,
     "grade_id": "cell-7bd5ca1b452daca8",
     "locked": true,
     "schema_version": 1,
     "solution": false
    }
   },
   "outputs": [],
   "source": [
    "def gp_plot( x_test, y_test, mean_test, std_test, x_train, t_train, theta, beta ):\n",
    "    # x_test: \n",
    "    # y_test:    the true function at x_test\n",
    "    # mean_test: predictive mean at x_test\n",
    "    # var_test:  predictive covariance at x_test \n",
    "    # t_train:   the training values\n",
    "    # theta:     the kernel parameters\n",
    "    # beta:      the precision (known)\n",
    "    \n",
    "    # the reason for the manipulation is to allow plots separating model and data stddevs.      # includes all uncertainty, model and target noise \n",
    "    std_model = np.sqrt(std_test**2 - 1.0/beta)  # remove data noise to get model uncertainty in stddev\n",
    "    std_combo = std_model + np.sqrt(1.0/beta)    # add stddev (note: not the same as full)\n",
    "    \n",
    "    plt.plot(x_test, y_test, 'b', lw=3)\n",
    "    plt.plot(x_test, mean_test, 'k--', lw=2)\n",
    "    plt.fill_between(x_test, mean_test+2*std_combo,mean_test-2*std_combo, color='k', alpha=0.25)\n",
    "    plt.fill_between(x_test, mean_test+2*std_model,mean_test-2*std_model, color='r', alpha=0.25)\n",
    "    plt.plot(x_train, t_train, 'ro', ms=10)\n",
    "    "
   ]
  },
  {
   "cell_type": "code",
   "execution_count": null,
   "metadata": {
    "deletable": false,
    "nbgrader": {
     "checksum": "ae73d0e79c27fa0b71596e446f5acb52",
     "grade": true,
     "grade_id": "cell-1a3dbf1bd2a106f1",
     "locked": false,
     "points": 10,
     "schema_version": 1,
     "solution": true
    }
   },
   "outputs": [],
   "source": [
    "# YOUR CODE HERE\n",
    "raise NotImplementedError()\n"
   ]
  },
  {
   "cell_type": "markdown",
   "metadata": {
    "deletable": false,
    "editable": false,
    "nbgrader": {
     "checksum": "04e5a0ea661756676c10d6b8d7a11524",
     "grade": false,
     "grade_id": "cell-5709bf749ae02f84",
     "locked": true,
     "schema_version": 1,
     "solution": false
    }
   },
   "source": [
    "#### 2.4 More plotting (5 points)\n",
    "Repeat the 6 plots above, but this time conditioned a new set of 10 training points. (5 points)"
   ]
  },
  {
   "cell_type": "code",
   "execution_count": null,
   "metadata": {
    "deletable": false,
    "nbgrader": {
     "checksum": "43da7f276e6ae7460306d00355c4b05d",
     "grade": true,
     "grade_id": "cell-b200d0aa0fb56cb7",
     "locked": false,
     "points": 5,
     "schema_version": 1,
     "solution": true
    }
   },
   "outputs": [],
   "source": [
    "# YOUR CODE HERE\n",
    "raise NotImplementedError()\n"
   ]
  },
  {
   "cell_type": "markdown",
   "metadata": {
    "deletable": false,
    "editable": false,
    "nbgrader": {
     "checksum": "12fb3774221d4ca2ac8cc75f45d2bec1",
     "grade": false,
     "grade_id": "cell-5d90eb9ba0ec6eed",
     "locked": true,
     "schema_version": 1,
     "solution": false
    }
   },
   "source": [
    "## Part 2: Support Vector Machines (45 points)\n",
    "As seen in Part 1: Gaussian Processes, one of the significant limitations of many such algorithms is that the kernel function $k(\\bx_n , \\bx_m)$ must be evaluated for all possible pairs $\\bx_n$ and $\\bx_m$ of training points, which can be computationally infeasible during training and can lead to excessive computation times when making predictions for new data points.\n",
    "In Part 2: Support Vector Machines, we shall look at kernel-based algorithms that have sparse solutions, so that predictions for new inputs depend only on the kernel function evaluated at a subset of the training data points. We are using the same notation as in Bishop chapter 7."
   ]
  },
  {
   "cell_type": "markdown",
   "metadata": {
    "deletable": false,
    "editable": false,
    "nbgrader": {
     "checksum": "e42e5e4dc8fb8dbdbb4b15b78555ec50",
     "grade": false,
     "grade_id": "cell-e89cb4e9ca837b57",
     "locked": true,
     "schema_version": 1,
     "solution": false
    }
   },
   "source": [
    "### 2.1 Generating a linearly separable dataset (15 points)\n",
    "a) (5 points) First of all, we are going to create our own 2D toy dataset $X$. The dataset will consists of two i.i.d. subsets $X_1$ and $X_2$, each of the subsets will be sampled from a multivariate Gaussian distribution,\n",
    "\n",
    "\\begin{align}\n",
    "X_1 \\sim &\\mathcal{N}(\\mu_1, \\Sigma_1)\\\\\n",
    "&\\text{ and }\\\\\n",
    "X_2 \\sim &\\mathcal{N}(\\mu_2, \\Sigma_2).\n",
    "\\end{align}\n",
    "\n",
    "In the following, $X_1$ will have $N_1=20$ samples and a mean $\\mu_1=(1,1)$. $X_2$ will have $N_2=30$ samples and a mean $\\mu_2=(3,3)$.\n",
    "\n",
    "Plot the two subsets in one figure, choose two colors to indicate which sample belongs to which subset. In addition you should choose, $\\Sigma_1$ and $\\Sigma_2$ in a way that the two subsets become linearly separable."
   ]
  },
  {
   "cell_type": "code",
   "execution_count": 179,
   "metadata": {
    "deletable": false,
    "nbgrader": {
     "checksum": "cc0901b713f288655ad60a2f1de76e59",
     "grade": true,
     "grade_id": "cell-497b9e4da2d7dd0d",
     "locked": false,
     "points": 5,
     "schema_version": 1,
     "solution": true
    }
   },
   "outputs": [
    {
     "data": {
      "image/png": "[encoded data removed]",
      "text/plain": [
       "<Figure size 432x288 with 1 Axes>"
      ]
     },
     "metadata": {
      "needs_background": "light"
     },
     "output_type": "display_data"
    }
   ],
   "source": [
    "# YOUR CODE HERE\n",
    "X_1 = np.random.multivariate_normal([1,1], np.diag([0.2, 0.4]), 20)\n",
    "X_2 = np.random.multivariate_normal([3,3], np.diag([0.44, 0.1]), 30)\n",
    "\n",
    "plt.scatter(X_1[:,0], X_1[:,1], label='X1')\n",
    "plt.scatter(X_2[:,0], X_2[:,1], label='X2')\n",
    "plt.title('Visualization of dataset')\n",
    "plt.legend()\n",
    "plt.show()\n",
    "                       \n"
   ]
  },
  {
   "cell_type": "markdown",
   "metadata": {
    "deletable": false,
    "editable": false,
    "nbgrader": {
     "checksum": "c9dc67da0bbba1c4fa2a5e292cd56a06",
     "grade": false,
     "grade_id": "cell-e82605073867be20",
     "locked": true,
     "schema_version": 1,
     "solution": false
    }
   },
   "source": [
    "b) (10 points) In the next step we will combine the two datasets X_1, X_2 and generate a vector `t` containing the labels. Write a function `create_X_and_t(X1, X2)` it should return the combined data set X and the corresponding target vector t."
   ]
  },
  {
   "cell_type": "code",
   "execution_count": 180,
   "metadata": {
    "deletable": false,
    "nbgrader": {
     "checksum": "7fc0bfcc84c1a33bba7a1201e179192e",
     "grade": false,
     "grade_id": "cell-fb79685c3320a112",
     "locked": false,
     "schema_version": 1,
     "solution": true
    }
   },
   "outputs": [],
   "source": [
    "def create_X_and_t(X1, X2):\n",
    "    # YOUR CODE HERE\n",
    "    X = np.concatenate((X1,X2))\n",
    "    t = np.concatenate((-np.ones(X1.shape[0]), np.ones(X2.shape[0])))\n",
    "    return X, t"
   ]
  },
  {
   "cell_type": "code",
   "execution_count": 181,
   "metadata": {
    "deletable": false,
    "editable": false,
    "nbgrader": {
     "checksum": "f276a727ecde9a12abea3b14874b9424",
     "grade": true,
     "grade_id": "cell-0b007355061e9bf8",
     "locked": true,
     "points": 10,
     "schema_version": 1,
     "solution": false
    }
   },
   "outputs": [],
   "source": [
    "### Test your function\n",
    "dim = 2\n",
    "N1_test = 3\n",
    "N2_test = 4\n",
    "X1_test = np.arange(6).reshape((N1_test, dim))\n",
    "X2_test = np.arange(8).reshape((N2_test, dim))\n",
    "X_test, t_test = create_X_and_t(X1_test, X2_test)\n",
    "\n",
    "\n",
    "assert X_test.shape == (N1_test + N2_test, dim), \"the shape of X is incorrect\"\n",
    "assert t_test.shape == (N1_test + N2_test,), \"the shape of t is incorrect\"\n"
   ]
  },
  {
   "cell_type": "markdown",
   "metadata": {
    "deletable": false,
    "editable": false,
    "nbgrader": {
     "checksum": "0c99a9ce080ed437b70570895d15e2d4",
     "grade": false,
     "grade_id": "cell-9ba2051eb1a59b30",
     "locked": true,
     "schema_version": 1,
     "solution": false
    }
   },
   "source": [
    "### 2.2 Finding the support vectors (15 points)\n",
    "Finally we going to use a SVM to obtain the decision boundary for which the margin is maximized. We have to solve the optimization problem\n",
    "\n",
    "\\begin{align}\n",
    "\\arg \\min_{\\bw, b} \\frac{1}{2} \\lVert \\bw \\rVert^2,\n",
    "\\end{align}\n",
    "\n",
    "subject to the constraints\n",
    "\n",
    "\\begin{align}\n",
    "t_n(\\bw^T \\phi(\\bx_n) + b) \\geq 1, n = 1,...,N.\n",
    "\\end{align}\n",
    "\n",
    "In order to solve this constrained optimization problem, we introduce Lagrange multipliers $a_n \\geq 0$. We obtain the dual\n",
    "representation of the maximum margin problem in which we maximize\n",
    "\n",
    "\\begin{align}\n",
    "\\sum_{n=1}^N a_n - \\frac{1}{2}\\sum_{n=1}^N\\sum_{m=1}^N a_n a_m t_n t_m k(\\bx_n, \\bx_m),\n",
    "\\end{align}\n",
    "\n",
    "with respect to a subject to the constraints\n",
    "\n",
    "\\begin{align}\n",
    "a_n &\\geq 0, n=1,...,N,\\\\\n",
    "\\sum_{n=1}^N a_n t_n &= 0.\n",
    "\\end{align}\n",
    "\n",
    "This takes the form of a quadratic programming problem in which we optimize a quadratic function of $\\mathbf{a}$, subject to a set of inequality constraints.\n",
    "\n"
   ]
  },
  {
   "cell_type": "markdown",
   "metadata": {
    "deletable": false,
    "editable": false,
    "nbgrader": {
     "checksum": "07d5c4f152011be941d8c3de941643be",
     "grade": false,
     "grade_id": "cell-2737e7ded107f771",
     "locked": true,
     "schema_version": 1,
     "solution": false
    }
   },
   "source": [
    "a) (5 points) In this example we will use a linear kernel $k(\\bx, \\bx') = \\bx^T\\bx'$. Write a function `computeK(X)` that computes the kernel matrix $K$ for the 2D dataset $X$."
   ]
  },
  {
   "cell_type": "code",
   "execution_count": 182,
   "metadata": {
    "deletable": false,
    "nbgrader": {
     "checksum": "6d85e675387e74c4b1f312572e42de4d",
     "grade": false,
     "grade_id": "cell-7d1a17d29190e696",
     "locked": false,
     "schema_version": 1,
     "solution": true
    }
   },
   "outputs": [],
   "source": [
    "def computeK(X):\n",
    "    # YOUR CODE HERE\n",
    "    K = X.dot(X.T)\n",
    "    \n",
    "    return K"
   ]
  },
  {
   "cell_type": "code",
   "execution_count": 183,
   "metadata": {
    "deletable": false,
    "editable": false,
    "nbgrader": {
     "checksum": "f757e6dc60eac7f9499c72364f1ca521",
     "grade": true,
     "grade_id": "cell-da1dfa43730cf324",
     "locked": true,
     "points": 5,
     "schema_version": 1,
     "solution": false
    }
   },
   "outputs": [],
   "source": [
    "dim = 2\n",
    "N_test = 3\n",
    "X_test = np.arange(2, 8).reshape((N_test, dim))\n",
    "K_test = computeK(X_test)\n",
    "\n",
    "\n",
    "assert K_test.shape == (N_test, N_test)\n"
   ]
  },
  {
   "cell_type": "markdown",
   "metadata": {
    "deletable": false,
    "editable": false,
    "nbgrader": {
     "checksum": "3ea888cbfc2389a281a25f9eb2bcf862",
     "grade": false,
     "grade_id": "cell-044564ecbbcaff3a",
     "locked": true,
     "schema_version": 1,
     "solution": false
    }
   },
   "source": [
    "Next, we will rewrite the dual representation so that we can make use of computationally efficient vector-matrix multiplication. The objective becomes\n",
    "\n",
    "\\begin{align}\n",
    "\\min_{\\ba} \\frac{1}{2} \\ba^T K' \\ba - 1^T\\ba,\n",
    "\\end{align}\n",
    "\n",
    "subject to the constraints\n",
    "\n",
    "\\begin{align}\n",
    "a_n &\\geq 0, n=1,...,N,\\\\\n",
    "\\bt^T\\ba &= 0.\n",
    "\\end{align}\n",
    "\n",
    "Where\n",
    "\\begin{align}\n",
    "K'_{nm} = t_n t_m k(\\bx_n, \\bx_m),\n",
    "\\end{align}\n",
    "and in the special case of a linear kernel function,\n",
    "\\begin{align}\n",
    "K'_{nm} = t_n t_m k(\\bx_n, \\bx_m) = k(t_n \\bx_n, t_m \\bx_m).\n",
    "\\end{align}\n",
    "\n",
    "To solve the quadratic programming problem we will use a python module called cvxopt. You first have to install the module in your virtual environment (you have to activate it first), using the following command:\n",
    "\n",
    "`conda install -c anaconda cvxopt`\n",
    "\n",
    "After the installation you probably have to restart Jupyter.\n",
    "\n",
    "The quadratic programming solver can be called as\n",
    "\n",
    "`cvxopt.solvers.qp(P, q[, G, h[, A, b[, solver[, initvals]]]])`\n",
    "\n",
    "This solves the following problem,\n",
    "\n",
    "\\begin{align}\n",
    "\\min_{\\bx} \\frac{1}{2} \\bx^T P \\bx + q^T\\bx,\n",
    "\\end{align}\n",
    "\n",
    "subject to the constraints,\n",
    "\n",
    "\\begin{align}\n",
    "G\\bx &\\leq h,\\\\\n",
    "A\\bx &= b.\n",
    "\\end{align}\n",
    "\n",
    "All we need to do is to map our formulation to the cvxopt interface.\n",
    "\n",
    "b) (10 points) Write a function `compute_multipliers(X, t)` that solves the quadratic programming problem using the cvxopt module and returns the lagrangian multiplier for every sample in the dataset. "
   ]
  },
  {
   "cell_type": "code",
   "execution_count": 190,
   "metadata": {
    "deletable": false,
    "nbgrader": {
     "checksum": "a08a0f87f9dea85bc5fb0eaf47cb5824",
     "grade": false,
     "grade_id": "cell-5b4327394255f3a6",
     "locked": false,
     "schema_version": 1,
     "solution": true
    }
   },
   "outputs": [],
   "source": [
    "import cvxopt\n",
    "\n",
    "def compute_multipliers(X, t):\n",
    "    # YOUR CODE HERE\n",
    "    N_samples = X.shape[0]\n",
    "    t = t.reshape((N_samples, 1))\n",
    "    K = computeK(t*X)\n",
    "    P = cvxopt.matrix(K)\n",
    "    q = cvxopt.matrix(-np.ones(N_samples))\n",
    "    A = cvxopt.matrix(t.T)\n",
    "    b = cvxopt.matrix(0.0)\n",
    "    G = cvxopt.matrix(-np.eye(N_samples))\n",
    "    h = cvxopt.matrix(-np.zeros(N_samples)) # ?? I thought this ought to be -1 but I am obviously wrong\n",
    "    sol = cvxopt.solvers.qp(P, q, G, h, A, b)\n",
    "    a = np.array(sol['x'])\n",
    "    return a"
   ]
  },
  {
   "cell_type": "code",
   "execution_count": 191,
   "metadata": {
    "deletable": false,
    "editable": false,
    "nbgrader": {
     "checksum": "cc67648e58a44a9224e0eed7c093deaf",
     "grade": true,
     "grade_id": "cell-05dd3e69ab4290d5",
     "locked": true,
     "points": 10,
     "schema_version": 1,
     "solution": false
    }
   },
   "outputs": [
    {
     "name": "stdout",
     "output_type": "stream",
     "text": [
      "     pcost       dcost       gap    pres   dres\n",
      " 0: -7.2895e-01 -1.3626e+00  6e+00  2e+00  2e+00\n",
      " 1: -3.0230e-01 -6.8816e-01  8e-01  1e-01  1e-01\n",
      " 2: -2.3865e-01 -3.3686e-01  1e-01  8e-17  3e-15\n",
      " 3: -2.4973e-01 -2.5198e-01  2e-03  9e-19  2e-15\n",
      " 4: -2.5000e-01 -2.5002e-01  2e-05  6e-17  4e-16\n",
      " 5: -2.5000e-01 -2.5000e-01  2e-07  8e-17  2e-15\n",
      "Optimal solution found.\n"
     ]
    }
   ],
   "source": [
    "### Test your function\n",
    "dim = 2\n",
    "N_test = 3\n",
    "X_test = np.arange(2, 8).reshape((N_test, dim))\n",
    "t_test = np.array([-1., 1., 1.])\n",
    "a_test = compute_multipliers(X_test, t_test)\n",
    "\n",
    "\n",
    "assert a_test.shape == (N_test, 1)\n"
   ]
  },
  {
   "cell_type": "markdown",
   "metadata": {
    "deletable": false,
    "editable": false,
    "nbgrader": {
     "checksum": "f39254febc169743b61bd19896fab2ba",
     "grade": false,
     "grade_id": "cell-79ee552a9c83325e",
     "locked": true,
     "schema_version": 1,
     "solution": false
    }
   },
   "source": [
    "### 2.3 Plot support vectors (5 points)\n",
    "Now that we have obtained the lagrangian multipliers $\\ba$, we use them to find our support vectors. Repeat the plot from 2.1, this time use a third color to indicate which samples are the support vectors."
   ]
  },
  {
   "cell_type": "code",
   "execution_count": 192,
   "metadata": {
    "deletable": false,
    "nbgrader": {
     "checksum": "b9281c423916582fe8b38c6494496099",
     "grade": true,
     "grade_id": "cell-313ecaa7ac15c36c",
     "locked": false,
     "points": 5,
     "schema_version": 1,
     "solution": true
    }
   },
   "outputs": [
    {
     "name": "stdout",
     "output_type": "stream",
     "text": [
      "     pcost       dcost       gap    pres   dres\n",
      " 0: -3.9352e+00 -6.9514e+00  1e+02  1e+01  2e+00\n",
      " 1: -2.3372e+00 -2.1277e+00  1e+01  1e+00  2e-01\n",
      " 2: -3.9501e-01 -1.3875e+00  1e+00  6e-16  3e-15\n",
      " 3: -7.3675e-01 -9.8309e-01  2e-01  3e-16  1e-15\n",
      " 4: -9.0251e-01 -9.4220e-01  4e-02  3e-16  2e-15\n",
      " 5: -9.3468e-01 -9.3929e-01  5e-03  2e-16  2e-15\n",
      " 6: -9.3859e-01 -9.3863e-01  5e-05  3e-16  2e-15\n",
      " 7: -9.3863e-01 -9.3863e-01  5e-07  5e-16  2e-15\n",
      "Optimal solution found.\n"
     ]
    },
    {
     "data": {
      "image/png": "[encoded data removed]",
      "text/plain": [
       "<Figure size 432x288 with 1 Axes>"
      ]
     },
     "metadata": {
      "needs_background": "light"
     },
     "output_type": "display_data"
    }
   ],
   "source": [
    "# YOUR CODE HERE\n",
    "\n",
    "\n",
    "X, t = create_X_and_t(X_1, X_2)\n",
    "a = compute_multipliers(X, t)\n",
    "support_vectors = (a>1e-5).reshape(-1)\n",
    "plt.scatter(X_1[:,0], X_1[:,1], label='X1')\n",
    "plt.scatter(X_2[:,0], X_2[:,1], label='X2')\n",
    "plt.scatter(X[support_vectors,0], X[support_vectors, 1])\n",
    "plt.title('Visualization of dataset')\n",
    "plt.legend()\n",
    "plt.show()\n",
    "              \n"
   ]
  },
  {
   "cell_type": "markdown",
   "metadata": {
    "deletable": false,
    "editable": false,
    "nbgrader": {
     "checksum": "d9da1b3e82eee6e95fdfd4b394a8fe7a",
     "grade": false,
     "grade_id": "cell-f2afbd01a7de87e8",
     "locked": true,
     "schema_version": 1,
     "solution": false
    }
   },
   "source": [
    "### 2.4 Plot the decision boundary (10 Points)\n",
    "The decision boundary is fully specified by a (usually very small) subset of training samples, the support vectors. Make use of\n",
    "\n",
    "\\begin{align}\n",
    "\\bw &= \\sum_{n=1}^N a_n t_n \\mathbf{\\phi}(\\bx_n)\\\\\n",
    "b &= \\frac{1}{N_S}\\sum_{n \\in S} (t_n - \\sum_{m \\in S} a_m t_m k(\\bx_n, \\bx_m)),\n",
    "\\end{align}\n",
    "\n",
    "where $S$ denotes the set of indices of the support vectors, to calculate the slope and intercept of the decision boundary. Generate a last plot that contains the two subsets, support vectors and decision boundary."
   ]
  },
  {
   "cell_type": "code",
   "execution_count": 193,
   "metadata": {
    "deletable": false,
    "nbgrader": {
     "checksum": "d4345049b6609f7e418b186b891d1e9f",
     "grade": true,
     "grade_id": "cell-f9511cd3c125aa65",
     "locked": false,
     "points": 10,
     "schema_version": 1,
     "solution": true
    }
   },
   "outputs": [
    {
     "data": {
      "text/plain": [
       "<matplotlib.collections.PathCollection at 0x20169bd5470>"
      ]
     },
     "execution_count": 193,
     "metadata": {},
     "output_type": "execute_result"
    },
    {
     "data": {
      "image/png": "[encoded data removed]",
      "text/plain": [
       "<Figure size 432x288 with 1 Axes>"
      ]
     },
     "metadata": {
      "needs_background": "light"
     },
     "output_type": "display_data"
    }
   ],
   "source": [
    "# # # YOUR CODE HERE\n",
    "# def compute_w(a, t, phi):\n",
    "#     w = 0\n",
    "#     for i in range(len(t)):\n",
    "#         w += a[i]*t[i]*phi[i]\n",
    "#     return w \n",
    "\n",
    "# def compute_b(support_vectors, t, a, x):\n",
    "#     N_s = len(X[support_vectors]) # number of support vectors\n",
    "#     return (1/N_s) * sum((t - sum((a*t.reshape(-1,1)*computeK(x))[support_vectors]))[support_vectors])\n",
    "\n",
    "    \n",
    "# X, t = create_X_and_t(X_1, X_2)\n",
    "# a = compute_multipliers(X, t)\n",
    "# support_vectors = (a>1e-5).reshape(-1)\n",
    "\n",
    "# w = compute_w(a, t, X)\n",
    "# b = compute_b(support_vectors, t, a, X)\n",
    "\n",
    "\n",
    "# print(w)\n",
    "# print(b)\n",
    "plt.scatter(X_1[:,0], X_1[:,1], label='X1')\n",
    "plt.scatter(X_2[:,0], X_2[:,1], label='X2')\n",
    "# plt.plot((X.dot(w)+b))\n",
    "# plt.title('Visualization of dataset')\n",
    "# plt.legend()\n",
    "# plt.show()\n",
    "\n"
   ]
  },
  {
   "cell_type": "code",
   "execution_count": null,
   "metadata": {},
   "outputs": [],
   "source": []
  },
  {
   "cell_type": "code",
   "execution_count": null,
   "metadata": {},
   "outputs": [],
   "source": []
  },
  {
   "cell_type": "code",
   "execution_count": null,
   "metadata": {},
   "outputs": [],
   "source": []
  }
 ],
 "metadata": {
  "kernelspec": {
   "display_name": "Python 3",
   "language": "python",
   "name": "python3"
  },
  "language_info": {
   "codemirror_mode": {
    "name": "ipython",
    "version": 3
   },
   "file_extension": ".py",
   "mimetype": "text/x-python",
   "name": "python",
   "nbconvert_exporter": "python",
   "pygments_lexer": "ipython3",
   "version": "3.7.3"
  }
 },
 "nbformat": 4,
 "nbformat_minor": 1
}
